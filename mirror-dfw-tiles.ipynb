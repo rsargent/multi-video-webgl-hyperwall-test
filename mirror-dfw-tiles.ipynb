{
 "metadata": {
  "name": "",
  "signature": "sha256:9dd6ff0eb2cfb1af817099c55fce0a01e8473875b4bb0729a6fefb95ae5b668c"
 },
 "nbformat": 3,
 "nbformat_minor": 0,
 "worksheets": [
  {
   "cells": [
    {
     "cell_type": "code",
     "collapsed": false,
     "input": [
      "import os, urllib2"
     ],
     "language": "python",
     "metadata": {},
     "outputs": [],
     "prompt_number": 9
    },
    {
     "cell_type": "code",
     "collapsed": false,
     "input": [
      "# Upper-left https://earthengine.google.org/timelapse/data/20130507/1068x600/11/2689/859.webm\n",
      "for y in range(0, 4):\n",
      "    for x in range(0, 4):\n",
      "        src = 'https://earthengine.google.org/timelapse/data/20130507/1068x600/11/%d/%d.mp4' % (2689 + y * 4, 859 + x * 4)\n",
      "        dest = 'dfw/x%dy%d.mp4' % (x, y)\n",
      "        if os.path.exists(dest):\n",
      "            print '%s already exists, skipping' % dest\n",
      "        else:\n",
      "            data = urllib2.urlopen(src).read()\n",
      "            open(dest, 'w').write(data)\n",
      "            print 'Wrote %d bytes to %s' % (len(data), dest)"
     ],
     "language": "python",
     "metadata": {},
     "outputs": [
      {
       "output_type": "stream",
       "stream": "stdout",
       "text": [
        "Wrote 1556027 bytes to dfw/x0y0.mp4\n",
        "Wrote 1767414 bytes to dfw/x1y0.mp4"
       ]
      },
      {
       "output_type": "stream",
       "stream": "stdout",
       "text": [
        "\n",
        "Wrote 1639758 bytes to dfw/x2y0.mp4"
       ]
      },
      {
       "output_type": "stream",
       "stream": "stdout",
       "text": [
        "\n",
        "Wrote 1368181 bytes to dfw/x3y0.mp4"
       ]
      },
      {
       "output_type": "stream",
       "stream": "stdout",
       "text": [
        "\n",
        "Wrote 1747459 bytes to dfw/x0y1.mp4"
       ]
      },
      {
       "output_type": "stream",
       "stream": "stdout",
       "text": [
        "\n",
        "Wrote 1837389 bytes to dfw/x1y1.mp4"
       ]
      },
      {
       "output_type": "stream",
       "stream": "stdout",
       "text": [
        "\n",
        "Wrote 1601694 bytes to dfw/x2y1.mp4"
       ]
      },
      {
       "output_type": "stream",
       "stream": "stdout",
       "text": [
        "\n",
        "Wrote 1370952 bytes to dfw/x3y1.mp4"
       ]
      },
      {
       "output_type": "stream",
       "stream": "stdout",
       "text": [
        "\n",
        "Wrote 1571038 bytes to dfw/x0y2.mp4"
       ]
      },
      {
       "output_type": "stream",
       "stream": "stdout",
       "text": [
        "\n",
        "Wrote 1679281 bytes to dfw/x1y2.mp4"
       ]
      },
      {
       "output_type": "stream",
       "stream": "stdout",
       "text": [
        "\n",
        "Wrote 1547630 bytes to dfw/x2y2.mp4"
       ]
      },
      {
       "output_type": "stream",
       "stream": "stdout",
       "text": [
        "\n",
        "Wrote 1387034 bytes to dfw/x3y2.mp4"
       ]
      },
      {
       "output_type": "stream",
       "stream": "stdout",
       "text": [
        "\n",
        "Wrote 1576447 bytes to dfw/x0y3.mp4"
       ]
      },
      {
       "output_type": "stream",
       "stream": "stdout",
       "text": [
        "\n",
        "Wrote 1536959 bytes to dfw/x1y3.mp4"
       ]
      },
      {
       "output_type": "stream",
       "stream": "stdout",
       "text": [
        "\n",
        "Wrote 1372908 bytes to dfw/x2y3.mp4"
       ]
      },
      {
       "output_type": "stream",
       "stream": "stdout",
       "text": [
        "\n",
        "Wrote 1344451 bytes to dfw/x3y3.mp4"
       ]
      },
      {
       "output_type": "stream",
       "stream": "stdout",
       "text": [
        "\n"
       ]
      }
     ],
     "prompt_number": 11
    },
    {
     "cell_type": "code",
     "collapsed": false,
     "input": [],
     "language": "python",
     "metadata": {},
     "outputs": []
    }
   ],
   "metadata": {}
  }
 ]
}